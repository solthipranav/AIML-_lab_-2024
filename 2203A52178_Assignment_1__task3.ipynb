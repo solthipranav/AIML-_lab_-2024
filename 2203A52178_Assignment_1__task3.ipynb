{
  "nbformat": 4,
  "nbformat_minor": 0,
  "metadata": {
    "colab": {
      "provenance": []
    },
    "kernelspec": {
      "name": "python3",
      "display_name": "Python 3"
    },
    "language_info": {
      "name": "python"
    }
  },
  "cells": [
    {
      "cell_type": "code",
      "execution_count": 3,
      "metadata": {
        "colab": {
          "base_uri": "https://localhost:8080/"
        },
        "id": "sxrIlwXOF3BG",
        "outputId": "954b091d-40bc-4d52-c203-fca541044e06"
      },
      "outputs": [
        {
          "output_type": "stream",
          "name": "stdout",
          "text": [
            "                         Name   Age        Ht no      Place\n",
            "0  pranav                   19    19  2203A52126  Huzurabad\n",
            "1               Vamshi krishna    19  2203A52127     Ambala\n",
            "2                      Avinash    19  2203A52227   Indurthi\n",
            "3                 Gopi krishna    21  2203A52076     Parkal\n",
            "4                       harsha    19  2203A52099   Warangal\n",
            "       Name \\t       Age \\tHt no\\t         Place\\t\\t\n",
            "0      Pranav\\t        19\\t2203A52126\\tHuzurabad\\t\\t\n",
            "1         Vamshi krishna\\t19\\t2203A52127\\tAmbala\\t\\t\n",
            "2      Avinash\\t        19\\t2203A52227\\tIndurthi\\t\\t\n",
            "3           Gopi krishna\\t21\\t2203A52076\\tParkal\\t\\t\n",
            "4  Sravan\\t        19      2203A52099      Warang...\n",
            "       Name \\t       Age \\tHt no\\t         Place\\t\\t\n",
            "0      Pranav\\t        19\\t2203A52126\\tHuzurabad\\t\\t\n",
            "1         Vamshi krishna\\t19\\t2203A52127\\tAmbala\\t\\t\n",
            "2      Avinash\\t        19\\t2203A52227\\tIndurthi\\t\\t\n",
            "3           Gopi krishna\\t21\\t2203A52076\\tParkal\\t\\t\n",
            "4  Sravan\\t        19      2203A52099      Warang...\n",
            "\n",
            "Data from URL:\n",
            "       Name \\t       Age \\tHt no\\t         Place\\t\\t\n",
            "0      Pranav\\t        19\\t2203A52126\\tHuzurabad\\t\\t\n",
            "1         Vamshi krishna\\t19\\t2203A52127\\tAmbala\\t\\t\n",
            "2      Avinash\\t        19\\t2203A52227\\tIndurthi\\t\\t\n",
            "3           Gopi krishna\\t21\\t2203A52076\\tParkal\\t\\t\n",
            "4  Sravan\\t        19      2203A52099      Warang...\n"
          ]
        }
      ],
      "source": [
        "import pandas as pd\n",
        "a=pd.read_csv(\"/content/2.csv\")\n",
        "print(a)\n",
        "b=pd.read_csv(\"/content/2.tsv\")\n",
        "print(b)\n",
        "c=pd.read_csv(\"/content/2.tsv\")\n",
        "print(c)\n",
        "# Read data from URL\n",
        "url = 'https://raw.githubusercontent.com/solthipranav/AIML/main/csv'\n",
        "df_url = pd.read_csv(\"/content/url.txt\")\n",
        "print(\"\\nData from URL:\")\n",
        "print(df_url)"
      ]
    }
  ]
}