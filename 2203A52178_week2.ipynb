{
  "nbformat": 4,
  "nbformat_minor": 0,
  "metadata": {
    "colab": {
      "provenance": []
    },
    "kernelspec": {
      "name": "python3",
      "display_name": "Python 3"
    },
    "language_info": {
      "name": "python"
    }
  },
  "cells": [
    {
      "cell_type": "code",
      "execution_count": 3,
      "metadata": {
        "colab": {
          "base_uri": "https://localhost:8080/"
        },
        "id": "zMbExIp2MJ7x",
        "outputId": "22ed9fdd-1881-4cdd-b78b-e080828d3f5a"
      },
      "outputs": [
        {
          "output_type": "stream",
          "name": "stdout",
          "text": [
            "1 0 2 3 5 4 "
          ]
        }
      ],
      "source": [
        "# BFS algorithm in Python\n",
        "import collections\n",
        "\n",
        "def bfs(graph, start):\n",
        "\n",
        "  visited = set()\n",
        "\n",
        "  queue = collections.deque([start])\n",
        "\n",
        "  visited.add(start)\n",
        "\n",
        "  while queue:\n",
        "\n",
        "    node = queue.popleft()\n",
        "\n",
        "    print(node, end=\" \")\n",
        "\n",
        "    neighbours = graph[node]\n",
        "\n",
        "    for neighbour in neighbours:\n",
        "\n",
        "      if neighbour not in visited:\n",
        "        visited.add(neighbour)\n",
        "        queue.append(neighbour)\n",
        "\n",
        "graph = {\n",
        "  0: [1],\n",
        "  1: [0, 2, 3],\n",
        "  2: [1, 5],\n",
        "  3: [1, 4],\n",
        "  4: [3, 5],\n",
        "  5: [2, 4]\n",
        "}\n",
        "\n",
        "bfs(graph, 1)\n"
      ]
    },
    {
      "cell_type": "code",
      "source": [
        "# DFS algorithm in Python\n",
        "import collections\n",
        "\n",
        "def dfs(graph, start):\n",
        "\n",
        "  visited = set()\n",
        "\n",
        "  stack = collections.deque([start])\n",
        "\n",
        "  visited.add(start)\n",
        "\n",
        "  while stack:\n",
        "\n",
        "    node = stack.pop()\n",
        "\n",
        "    print(node, end=\" \")\n",
        "\n",
        "    neighbours = graph[node]\n",
        "\n",
        "    for neighbour in neighbours:\n",
        "\n",
        "      if neighbour not in visited:\n",
        "        visited.add(neighbour)\n",
        "        stack.append(neighbour)\n",
        "\n",
        "graph = {\n",
        "  \"S\": [\"A\", \"C\", \"G\"],\n",
        "  \"A\": [\"B\"],\n",
        "  \"B\": [],\n",
        "  \"C\": [\"D\", \"F\"],\n",
        "  \"D\": [],\n",
        "  \"E\": [],\n",
        "  \"F\": [\"E\", \"H\"],\n",
        "  \"G\": [],\n",
        "  \"H\": []\n",
        "}\n",
        "\n",
        "dfs(graph, \"S\")\n"
      ],
      "metadata": {
        "colab": {
          "base_uri": "https://localhost:8080/"
        },
        "id": "Dv3vBpR0YIyz",
        "outputId": "0ba7415c-aff5-4967-da86-ccee314bde7a"
      },
      "execution_count": 4,
      "outputs": [
        {
          "output_type": "stream",
          "name": "stdout",
          "text": [
            "S G C F H E D A B "
          ]
        }
      ]
    }
  ]
}