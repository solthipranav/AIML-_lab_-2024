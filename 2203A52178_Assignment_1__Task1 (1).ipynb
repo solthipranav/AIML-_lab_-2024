{
  "nbformat": 4,
  "nbformat_minor": 0,
  "metadata": {
    "colab": {
      "provenance": []
    },
    "kernelspec": {
      "name": "python3",
      "display_name": "Python 3"
    },
    "language_info": {
      "name": "python"
    }
  },
  "cells": [
    {
      "cell_type": "code",
      "execution_count": 2,
      "metadata": {
        "colab": {
          "base_uri": "https://localhost:8080/"
        },
        "id": "gG3xfQXJGY0h",
        "outputId": "20b05960-f675-4316-c65f-001bc9c49ed0"
      },
      "outputs": [
        {
          "output_type": "stream",
          "name": "stdout",
          "text": [
            "Type of list1: <class 'list'>\n",
            "Type of array1: <class 'numpy.ndarray'>\n"
          ]
        }
      ],
      "source": [
        "import numpy as np\n",
        "import pandas as pd\n",
        "\n",
        "# 1. Lists\n",
        "list1 = [1, 2, 3, 4, 5]\n",
        "list2 = [6, 7, 8, 9, 10]\n",
        "\n",
        "# 2. Arrays\n",
        "array1 = np.array(list1)\n",
        "array2 = np.array(list2)\n",
        "\n",
        "# 3. Identify their type using type()\n",
        "print(\"Type of list1:\", type(list1))\n",
        "print(\"Type of array1:\", type(array1))\n"
      ]
    },
    {
      "cell_type": "code",
      "source": [
        "# 4. Perform mathematical operations\n",
        "# Multiplication\n",
        "result_multiply = array1 * array2\n",
        "print(\"Multiplication Result:\", result_multiply)\n",
        "\n",
        "# Division\n",
        "result_divide = array2 / array1\n",
        "print(\"Division Result:\", result_divide)\n",
        "\n",
        "# Power off\n",
        "result_poweroff = array1 ** 2\n",
        "print(\"Poweroff Result:\", result_poweroff)\n"
      ],
      "metadata": {
        "colab": {
          "base_uri": "https://localhost:8080/"
        },
        "id": "2MLY7uMoKHS7",
        "outputId": "12f01951-d58d-4fa5-e2f0-6e0cabe27f93"
      },
      "execution_count": 3,
      "outputs": [
        {
          "output_type": "stream",
          "name": "stdout",
          "text": [
            "Multiplication Result: [ 6 14 24 36 50]\n",
            "Division Result: [6.         3.5        2.66666667 2.25       2.        ]\n",
            "Poweroff Result: [ 1  4  9 16 25]\n"
          ]
        }
      ]
    },
    {
      "cell_type": "code",
      "source": [
        "# 5. Combine text with NumPy function to generate a textual output\n",
        "textual_output = f\"Addition of Two: {array1} + {array2}\"\n",
        "print(textual_output)\n"
      ],
      "metadata": {
        "colab": {
          "base_uri": "https://localhost:8080/"
        },
        "id": "KazJOjI9KO9Z",
        "outputId": "48ea350d-bb79-48af-a7dd-0e7fa9fbeab6"
      },
      "execution_count": 4,
      "outputs": [
        {
          "output_type": "stream",
          "name": "stdout",
          "text": [
            "Addition of Two: [1 2 3 4 5] + [ 6  7  8  9 10]\n"
          ]
        }
      ]
    },
    {
      "cell_type": "code",
      "source": [
        "# 6. Implement np.sin(), log(), log2(), np.exp()\n",
        "sin_values = np.sin(array1)\n",
        "log_values = np.log(array1)\n",
        "log2_values = np.log2(array1)\n",
        "exp_values = np.exp(array1)\n",
        "\n",
        "print(\"Sin Values:\", sin_values)\n",
        "print(\"Log Values:\", log_values)\n",
        "print(\"Log2 Values:\", log2_values)\n",
        "print(\"Exponential Values:\", exp_values)\n"
      ],
      "metadata": {
        "colab": {
          "base_uri": "https://localhost:8080/"
        },
        "id": "jY3gf_66KrU1",
        "outputId": "34c07fd8-7de6-44c5-8048-6b57b5cb8e51"
      },
      "execution_count": 5,
      "outputs": [
        {
          "output_type": "stream",
          "name": "stdout",
          "text": [
            "Sin Values: [ 0.84147098  0.90929743  0.14112001 -0.7568025  -0.95892427]\n",
            "Log Values: [0.         0.69314718 1.09861229 1.38629436 1.60943791]\n",
            "Log2 Values: [0.         1.         1.5849625  2.         2.32192809]\n",
            "Exponential Values: [  2.71828183   7.3890561   20.08553692  54.59815003 148.4131591 ]\n"
          ]
        }
      ]
    }
  ]
}